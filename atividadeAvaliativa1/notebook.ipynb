{
 "cells": [
  {
   "cell_type": "code",
   "execution_count": 8,
   "metadata": {},
   "outputs": [],
   "source": [
    "from pymongo import MongoClient\n",
    "import pprint"
   ]
  },
  {
   "cell_type": "code",
   "execution_count": 3,
   "metadata": {},
   "outputs": [],
   "source": [
    "client = MongoClient('mongodb://localhost:27017')"
   ]
  },
  {
   "cell_type": "code",
   "execution_count": 4,
   "metadata": {},
   "outputs": [],
   "source": [
    "db = client['dbworld']"
   ]
  },
  {
   "cell_type": "code",
   "execution_count": 6,
   "metadata": {},
   "outputs": [],
   "source": [
    "countries = db.countries"
   ]
  },
  {
   "cell_type": "code",
   "execution_count": 13,
   "metadata": {},
   "outputs": [
    {
     "name": "stdout",
     "output_type": "stream",
     "text": [
      "{'_id': ObjectId('55a0f42f20a4d760b5fc311a'),\n",
      " 'name': {'common': 'Russia',\n",
      "          'native': {'rus': {'common': 'Россия',\n",
      "                             'official': 'Русская Федерация'}},\n",
      "          'official': 'Russian Federation'}}\n",
      "{'_id': ObjectId('55a0f42f20a4d760b5fc3140'),\n",
      " 'name': {'common': 'Ukraine',\n",
      "          'native': {'rus': {'common': 'Украина', 'official': 'Украина'},\n",
      "                     'ukr': {'common': 'Україна', 'official': 'Україна'}},\n",
      "          'official': 'Ukraine'}}\n",
      "{'_id': ObjectId('55a0f42f20a4d760b5fc30be'),\n",
      " 'name': {'common': 'France',\n",
      "          'native': {'fra': {'common': 'France',\n",
      "                             'official': 'République française'}},\n",
      "          'official': 'French Republic'}}\n",
      "{'_id': ObjectId('55a0f42f20a4d760b5fc309b'),\n",
      " 'name': {'common': 'Spain',\n",
      "          'native': {'cat': {'common': 'Espanya',\n",
      "                             'official': \"Regne d'Espanya\"},\n",
      "                     'eus': {'common': 'Espainia',\n",
      "                             'official': 'Espainiako Erresuma'},\n",
      "                     'glg': {'common': '', 'official': 'Reino de España'},\n",
      "                     'oci': {'common': 'Espanha',\n",
      "                             'official': \"Reialme d'Espanha\"},\n",
      "                     'spa': {'common': 'España',\n",
      "                             'official': 'Reino de España'}},\n",
      "          'official': 'Kingdom of Spain'}}\n",
      "{'_id': ObjectId('55a0f42f20a4d760b5fc312c'),\n",
      " 'name': {'common': 'Sweden',\n",
      "          'native': {'swe': {'common': 'Sverige',\n",
      "                             'official': 'Konungariket Sverige'}},\n",
      "          'official': 'Kingdom of Sweden'}}\n",
      "{'_id': ObjectId('55a0f42f20a4d760b5fc3094'),\n",
      " 'name': {'common': 'Germany',\n",
      "          'native': {'deu': {'common': 'Deutschland',\n",
      "                             'official': 'Bundesrepublik Deutschland'}},\n",
      "          'official': 'Federal Republic of Germany'}}\n",
      "{'_id': ObjectId('55a0f42f20a4d760b5fc30a3'),\n",
      " 'name': {'common': 'Finland',\n",
      "          'native': {'fin': {'common': 'Suomi', 'official': 'Suomen tasavalta'},\n",
      "                     'swe': {'common': 'Finland',\n",
      "                             'official': 'Republiken Finland'}},\n",
      "          'official': 'Republic of Finland'}}\n",
      "{'_id': ObjectId('55a0f42f20a4d760b5fc311b'),\n",
      " 'name': {'common': 'Norway',\n",
      "          'native': {'nno': {'common': 'Noreg', 'official': 'Kongeriket Noreg'},\n",
      "                     'nob': {'common': 'Norge', 'official': 'Kongeriket Norge'},\n",
      "                     'smi': {'common': 'Norgga',\n",
      "                             'official': 'Norgga gonagasriika'}},\n",
      "          'official': 'Kingdom of Norway'}}\n",
      "{'_id': ObjectId('55a0f42f20a4d760b5fc3114'),\n",
      " 'name': {'common': 'Poland',\n",
      "          'native': {'pol': {'common': 'Polska',\n",
      "                             'official': 'Rzeczpospolita Polska'}},\n",
      "          'official': 'Republic of Poland'}}\n",
      "{'_id': ObjectId('55a0f42f20a4d760b5fc30d4'),\n",
      " 'name': {'common': 'Italy',\n",
      "          'native': {'bar': {'common': 'Italien',\n",
      "                             'official': 'Italienische Republik'},\n",
      "                     'ita': {'common': 'Italia',\n",
      "                             'official': 'Repubblica italiana'},\n",
      "                     'srd': {'common': 'Italia',\n",
      "                             'official': 'Repubbricanu Italia'}},\n",
      "          'official': 'Italian Republic'}}\n"
     ]
    }
   ],
   "source": [
    "results = countries.find(\n",
    "    {\"region\":\"Europe\", \"area\":{\"$gt\": 300000}},\n",
    "    {\"name\":1}\n",
    ").sort(\"area\",-1)\n",
    "\n",
    "for result in results:\n",
    "    pprint.pprint(result)"
   ]
  },
  {
   "cell_type": "code",
   "execution_count": 14,
   "metadata": {},
   "outputs": [
    {
     "name": "stdout",
     "output_type": "stream",
     "text": [
      "Documento adicionado\n"
     ]
    }
   ],
   "source": [
    "new_doc = {\n",
    "    \"name\": \"Brazil\",\n",
    "    \"temp\": {\n",
    "        \"SP\": 26,\n",
    "        \"RJ\": 32,\n",
    "        \"MG\": 26\n",
    "    }\n",
    "}\n",
    "\n",
    "result = db.temperatures.insert_one(new_doc)\n",
    "if result.acknowledged:\n",
    "    print(\"Documento adicionado\")\n",
    "else:\n",
    "    print(\"Erro na inserção...\")"
   ]
  },
  {
   "cell_type": "code",
   "execution_count": 18,
   "metadata": {},
   "outputs": [
    {
     "name": "stdout",
     "output_type": "stream",
     "text": [
      "Atulizado com sucesso!\n"
     ]
    }
   ],
   "source": [
    "temperatures = db.temperatures\n",
    "result = temperatures.update_one(\n",
    "    {\"temp.MG\":{\"$exists\":True}},\n",
    "    {\"$set\":{\"temp.MG\":30}}\n",
    ")\n",
    "if result.acknowledged:\n",
    "    print(\"Atulizado com sucesso!\")\n",
    "else:\n",
    "    print(\"Erro na atualização...\")\n"
   ]
  },
  {
   "cell_type": "code",
   "execution_count": 19,
   "metadata": {},
   "outputs": [
    {
     "name": "stdout",
     "output_type": "stream",
     "text": [
      "Removido com sucesso!\n"
     ]
    }
   ],
   "source": [
    "result = temperatures.delete_one({'name':\"Brazil\"})\n",
    "if result.acknowledged:\n",
    "    print(\"Removido com sucesso!\")\n",
    "else:\n",
    "    print(\"Erro ao remover...\")"
   ]
  }
 ],
 "metadata": {
  "kernelspec": {
   "display_name": "venv",
   "language": "python",
   "name": "python3"
  },
  "language_info": {
   "codemirror_mode": {
    "name": "ipython",
    "version": 3
   },
   "file_extension": ".py",
   "mimetype": "text/x-python",
   "name": "python",
   "nbconvert_exporter": "python",
   "pygments_lexer": "ipython3",
   "version": "3.10.9"
  },
  "orig_nbformat": 4
 },
 "nbformat": 4,
 "nbformat_minor": 2
}
